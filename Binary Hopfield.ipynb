{
 "cells": [
  {
   "cell_type": "code",
   "execution_count": 1,
   "id": "4c93e972",
   "metadata": {},
   "outputs": [],
   "source": [
    "import numpy as np\n",
    "import pandas as pd\n",
    "from matplotlib import pyplot as plt\n",
    "from matplotlib import cm\n",
    "import copy\n",
    "import random"
   ]
  },
  {
   "cell_type": "code",
   "execution_count": 2,
   "id": "987bb383",
   "metadata": {},
   "outputs": [],
   "source": [
    "def set_weights(patterns, weights):\n",
    "    p = weights.shape[0]\n",
    "    weights_copy = copy.deepcopy(weights)\n",
    "    \n",
    "    for i in range(p):\n",
    "        for j in range(p):\n",
    "            if i == j:\n",
    "                weights_copy[i, j] = 0\n",
    "            else:\n",
    "                for p_num in range(patterns.shape[1]):\n",
    "                    weights_copy[i, j] += (1/p)*patterns[i, p_num]*patterns[j, p_num]\n",
    "    \n",
    "    return weights_copy\n",
    "                    \n",
    "\n",
    "def iterate_network(test_input, weights, max_iter):\n",
    "    p = weights.shape[0]\n",
    "    \n",
    "    x_cur = copy.deepcopy(test_input)\n",
    "    x_new = np.zeros(test_input.shape)\n",
    "    \n",
    "    for iteration in range(max_iter):\n",
    "        for i in range(p):\n",
    "            temp_sum = 0\n",
    "            for j in range(p):\n",
    "                temp_sum += weights[i, j]*x_cur[j]\n",
    "                \n",
    "            x_new[i] = np.sign(temp_sum)\n",
    "        \n",
    "        comparison = (x_new == x_cur)\n",
    "        if comparison.all():\n",
    "            break\n",
    "        \n",
    "        x_cur = x_new\n",
    "    \n",
    "    return x_cur\n",
    "        \n",
    "    \n",
    "def add_noise(patterns, num_pixels):\n",
    "    noisy_patterns = copy.deepcopy(patterns)\n",
    "    indices = range(patterns.shape[0])\n",
    "    \n",
    "    for p_num in range(patterns.shape[1]):\n",
    "        shuf_ind = random.sample(indices, len(indices))\n",
    "        \n",
    "        for i in range(num_pixels):\n",
    "            if patterns[shuf_ind[i], p_num] == 1:\n",
    "                noisy_patterns[shuf_ind[i], p_num] = -1\n",
    "            else:\n",
    "                noisy_patterns[shuf_ind[i], p_num] = 1\n",
    "    \n",
    "    return noisy_patterns"
   ]
  },
  {
   "cell_type": "code",
   "execution_count": 3,
   "id": "3bfa26d2",
   "metadata": {},
   "outputs": [],
   "source": [
    "pattern_0 = np.array([[-1,1,1,1,-1],\n",
    "                      [1,-1,-1,-1,1],\n",
    "                      [1,-1,-1,-1,1],\n",
    "                      [1,-1,-1,-1,1],\n",
    "                      [1,-1,-1,-1,1],\n",
    "                      [-1,1,1,1,-1]])\n",
    "pattern_0_flat = np.reshape(pattern_0, (30,1))\n",
    "\n",
    "\n",
    "pattern_1 = np.array([[-1,1,1,-1,-1],\n",
    "                      [-1,-1,1,-1,-1],\n",
    "                      [-1,-1,1,-1,-1],\n",
    "                      [-1,-1,1,-1,-1],\n",
    "                      [-1,-1,1,-1,-1],\n",
    "                      [-1,-1,1,-1,-1]])\n",
    "pattern_1_flat = np.reshape(pattern_1, (30,1))\n",
    "\n",
    "\n",
    "pattern_2 = np.array([[1,1,1,-1,-1],\n",
    "                      [-1,-1,-1,1,-1],\n",
    "                      [-1,-1,-1,1,-1],\n",
    "                      [-1,1,1,-1,-1],\n",
    "                      [-1,1,-1,-1,-1],\n",
    "                      [-1,1,1,1,1]])\n",
    "pattern_2_flat = np.reshape(pattern_2, (30,1))\n",
    "\n",
    "\n",
    "pattern_3 = np.array([[-1,1,1,1,-1,],\n",
    "                      [-1,-1,-1,-1,1],\n",
    "                      [-1,-1,1,1,1],\n",
    "                      [-1,-1,-1,-1,1],\n",
    "                      [-1,1,1,1,-1],\n",
    "                      [-1,-1,-1,-1,-1]])\n",
    "pattern_3_flat = np.reshape(pattern_3, (30,1))\n",
    "\n",
    "\n",
    "pattern_4 = np.array([[1,-1,-1,1,-1],\n",
    "                      [1,-1,-1,1,-1],\n",
    "                      [1,-1,-1,1,-1],\n",
    "                      [1,1,1,1,1],\n",
    "                      [-1,-1,-1,1,-1],\n",
    "                      [-1,-1,-1,1,-1]])\n",
    "pattern_4_flat = np.reshape(pattern_4, (30,1))\n",
    "\n",
    "\n",
    "pattern_5 = np.array([[1,1,1,1,1],\n",
    "                      [1,-1,-1,-1,-1],\n",
    "                      [1,1,1,1,-1],\n",
    "                      [-1,-1,-1,1,-1],\n",
    "                      [-1,-1,-1,1,-1],\n",
    "                      [1,1,1,1,-1]])\n",
    "pattern_5_flat = np.reshape(pattern_5, (30,1))\n",
    "\n",
    "\n",
    "pattern_6 = np.array([[1,-1,-1,-1,-1],\n",
    "                      [1,-1,-1,-1,-1],\n",
    "                      [1,1,1,1,1],\n",
    "                      [1,-1,-1,-1,1],\n",
    "                      [1,-1,-1,-1,1],\n",
    "                      [1,1,1,1,1]])\n",
    "pattern_6_flat = np.reshape(pattern_6, (30,1))"
   ]
  },
  {
   "cell_type": "code",
   "execution_count": 4,
   "id": "1c8ed239",
   "metadata": {},
   "outputs": [
    {
     "data": {
      "text/plain": [
       "Text(0.5, 1.0, 'Pattern for digit 0')"
      ]
     },
     "execution_count": 4,
     "metadata": {},
     "output_type": "execute_result"
    },
    {
     "data": {
      "image/png": "[encoded data removed]",
      "text/plain": [
       "<Figure size 432x288 with 1 Axes>"
      ]
     },
     "metadata": {
      "needs_background": "light"
     },
     "output_type": "display_data"
    }
   ],
   "source": [
    "plt.imshow(pattern_0)\n",
    "plt.title('Pattern for digit 0')"
   ]
  },
  {
   "cell_type": "code",
   "execution_count": 5,
   "id": "9b8b99b3",
   "metadata": {},
   "outputs": [
    {
     "data": {
      "text/plain": [
       "Text(0.5, 1.0, 'Pattern for digit 1')"
      ]
     },
     "execution_count": 5,
     "metadata": {},
     "output_type": "execute_result"
    },
    {
     "data": {
      "image/png": "[encoded data removed]",
      "text/plain": [
       "<Figure size 432x288 with 1 Axes>"
      ]
     },
     "metadata": {
      "needs_background": "light"
     },
     "output_type": "display_data"
    }
   ],
   "source": [
    "plt.imshow(pattern_1)\n",
    "plt.title('Pattern for digit 1')"
   ]
  },
  {
   "cell_type": "code",
   "execution_count": 6,
   "id": "a6ba9bd2",
   "metadata": {},
   "outputs": [
    {
     "data": {
      "text/plain": [
       "Text(0.5, 1.0, 'Pattern for digit 2')"
      ]
     },
     "execution_count": 6,
     "metadata": {},
     "output_type": "execute_result"
    },
    {
     "data": {
      "image/png": "[encoded data removed]",
      "text/plain": [
       "<Figure size 432x288 with 1 Axes>"
      ]
     },
     "metadata": {
      "needs_background": "light"
     },
     "output_type": "display_data"
    }
   ],
   "source": [
    "plt.imshow(pattern_2)\n",
    "plt.title('Pattern for digit 2')"
   ]
  },
  {
   "cell_type": "code",
   "execution_count": 7,
   "id": "a42c01a9",
   "metadata": {},
   "outputs": [
    {
     "data": {
      "text/plain": [
       "Text(0.5, 1.0, 'Pattern for digit 3')"
      ]
     },
     "execution_count": 7,
     "metadata": {},
     "output_type": "execute_result"
    },
    {
     "data": {
      "image/png": "[encoded data removed]",
      "text/plain": [
       "<Figure size 432x288 with 1 Axes>"
      ]
     },
     "metadata": {
      "needs_background": "light"
     },
     "output_type": "display_data"
    }
   ],
   "source": [
    "plt.imshow(pattern_3)\n",
    "plt.title('Pattern for digit 3')"
   ]
  },
  {
   "cell_type": "code",
   "execution_count": 8,
   "id": "3ed0ca4b",
   "metadata": {},
   "outputs": [
    {
     "data": {
      "text/plain": [
       "Text(0.5, 1.0, 'Pattern for digit 4')"
      ]
     },
     "execution_count": 8,
     "metadata": {},
     "output_type": "execute_result"
    },
    {
     "data": {
      "image/png": "[encoded data removed]",
      "text/plain": [
       "<Figure size 432x288 with 1 Axes>"
      ]
     },
     "metadata": {
      "needs_background": "light"
     },
     "output_type": "display_data"
    }
   ],
   "source": [
    "plt.imshow(pattern_4)\n",
    "plt.title('Pattern for digit 4')"
   ]
  },
  {
   "cell_type": "code",
   "execution_count": 9,
   "id": "cf54ddfa",
   "metadata": {},
   "outputs": [
    {
     "data": {
      "text/plain": [
       "Text(0.5, 1.0, 'Pattern for digit 5')"
      ]
     },
     "execution_count": 9,
     "metadata": {},
     "output_type": "execute_result"
    },
    {
     "data": {
      "image/png": "[encoded data removed]",
      "text/plain": [
       "<Figure size 432x288 with 1 Axes>"
      ]
     },
     "metadata": {
      "needs_background": "light"
     },
     "output_type": "display_data"
    }
   ],
   "source": [
    "plt.imshow(pattern_5)\n",
    "plt.title('Pattern for digit 5')"
   ]
  },
  {
   "cell_type": "code",
   "execution_count": 10,
   "id": "f5d249f1",
   "metadata": {},
   "outputs": [
    {
     "data": {
      "text/plain": [
       "Text(0.5, 1.0, 'Pattern for digit 6')"
      ]
     },
     "execution_count": 10,
     "metadata": {},
     "output_type": "execute_result"
    },
    {
     "data": {
      "image/png": "[encoded data removed]",
      "text/plain": [
       "<Figure size 432x288 with 1 Axes>"
      ]
     },
     "metadata": {
      "needs_background": "light"
     },
     "output_type": "display_data"
    }
   ],
   "source": [
    "plt.imshow(pattern_6)\n",
    "plt.title('Pattern for digit 6')"
   ]
  },
  {
   "cell_type": "code",
   "execution_count": 11,
   "id": "18dfcbfd",
   "metadata": {},
   "outputs": [],
   "source": [
    "patterns_01 = np.hstack((pattern_0_flat, pattern_1_flat))\n",
    "\n",
    "patterns_012 = np.hstack((patterns_01, pattern_1_flat))\n",
    "\n",
    "patterns_0123456 = np.hstack((patterns_012, pattern_3_flat))\n",
    "patterns_0123456 = np.hstack((patterns_0123456, pattern_4_flat))\n",
    "patterns_0123456 = np.hstack((patterns_0123456, pattern_5_flat))\n",
    "patterns_0123456 = np.hstack((patterns_0123456, pattern_6_flat))"
   ]
  },
  {
   "cell_type": "code",
   "execution_count": 12,
   "id": "7f9a6525",
   "metadata": {},
   "outputs": [],
   "source": [
    "blank_weights = np.zeros((30,30))\n",
    "max_iter = 10_000\n",
    "\n",
    "weights_01 = set_weights(patterns_01, blank_weights)\n",
    "weights_012 = set_weights(patterns_012, blank_weights)\n",
    "weights_0123456 = set_weights(patterns_0123456, blank_weights)\n",
    "\n",
    "noise2_arr = []\n",
    "noise4_arr = []\n",
    "noise6_arr = []"
   ]
  },
  {
   "cell_type": "code",
   "execution_count": 13,
   "id": "ee9a8587",
   "metadata": {},
   "outputs": [],
   "source": [
    "for i in range(10):\n",
    "    noise2_temp_arr = []\n",
    "    patterns_01_noise2 = add_noise(patterns_01, 2)\n",
    "    patterns_012_noise2 = add_noise(patterns_012, 2)\n",
    "    patterns_0123456_noise2 = add_noise(patterns_0123456, 2)\n",
    "    noise2_temp_arr.append(iterate_network(patterns_01_noise2, weights_01, max_iter))\n",
    "    noise2_temp_arr.append(iterate_network(patterns_012_noise2, weights_012, max_iter))\n",
    "    noise2_temp_arr.append(iterate_network(patterns_0123456_noise2, weights_0123456, max_iter))\n",
    "    noise2_arr.append(noise2_temp_arr)\n",
    "\n",
    "    noise4_temp_arr = []\n",
    "    patterns_01_noise4 = add_noise(patterns_01, 4)\n",
    "    patterns_012_noise4 = add_noise(patterns_012, 4)\n",
    "    patterns_0123456_noise4 = add_noise(patterns_0123456, 4)\n",
    "    noise4_temp_arr.append(iterate_network(patterns_01_noise4, weights_01, max_iter))\n",
    "    noise4_temp_arr.append(iterate_network(patterns_012_noise4, weights_012, max_iter))\n",
    "    noise4_temp_arr.append(iterate_network(patterns_0123456_noise4, weights_0123456, max_iter))\n",
    "    noise4_arr.append(noise4_temp_arr)\n",
    "\n",
    "    noise6_temp_arr = []\n",
    "    patterns_01_noise6 = add_noise(patterns_01, 6)\n",
    "    patterns_012_noise6 = add_noise(patterns_012, 6)\n",
    "    patterns_0123456_noise6 = add_noise(patterns_0123456, 6)\n",
    "    noise6_temp_arr.append(iterate_network(patterns_01_noise6, weights_01, max_iter))\n",
    "    noise6_temp_arr.append(iterate_network(patterns_012_noise6, weights_012, max_iter))\n",
    "    noise6_temp_arr.append(iterate_network(patterns_0123456_noise6, weights_0123456, max_iter))\n",
    "    noise6_arr.append(noise6_temp_arr)"
   ]
  },
  {
   "cell_type": "code",
   "execution_count": 14,
   "id": "6471fe67",
   "metadata": {},
   "outputs": [
    {
     "data": {
      "text/plain": [
       "Text(0, 0.5, 'Error %')"
      ]
     },
     "execution_count": 14,
     "metadata": {},
     "output_type": "execute_result"
    },
    {
     "data": {
      "image/png": "[encoded data removed]",
      "text/plain": [
       "<Figure size 432x288 with 1 Axes>"
      ]
     },
     "metadata": {
      "needs_background": "light"
     },
     "output_type": "display_data"
    }
   ],
   "source": [
    "noise2_2pat = 0\n",
    "noise2_3pat = 0\n",
    "noise2_7pat = 0\n",
    "\n",
    "for i in range(10):\n",
    "    for x in range(noise2_arr[i][0].shape[1]):\n",
    "        if (noise2_arr[i][0][:,x] == patterns_01[:,x]).all():\n",
    "            noise2_2pat += 1\n",
    "    for y in range(noise2_arr[i][1].shape[1]):\n",
    "        if (noise2_arr[i][1][:,y] == patterns_012[:,y]).all():\n",
    "            noise2_3pat += 1\n",
    "    for z in range(noise2_arr[i][2].shape[1]):\n",
    "        if (noise2_arr[i][2][:,z] == patterns_0123456[:,z]).all():\n",
    "            noise2_7pat += 1\n",
    "        \n",
    "noise2_2pat_err = ((20-noise2_2pat)/20)*100\n",
    "noise2_3pat_err = ((30-noise2_3pat)/30)*100\n",
    "noise2_7pat_err = ((70-noise2_7pat)/70)*100\n",
    "\n",
    "noise_2_err = [noise2_2pat_err, noise2_3pat_err, noise2_7pat_err]\n",
    "\n",
    "patterns_stored = ['2 Patterns', '3 Patterns', '7 Patterns']\n",
    "\n",
    "plt.bar(patterns_stored, noise_2_err)\n",
    "plt.title('Error % based on number of patterns stored with 2 corrupt bits')\n",
    "plt.xlabel('Number of patterns')\n",
    "plt.ylabel('Error %')"
   ]
  },
  {
   "cell_type": "code",
   "execution_count": 15,
   "id": "ab363154",
   "metadata": {},
   "outputs": [
    {
     "data": {
      "text/plain": [
       "Text(0, 0.5, 'Error %')"
      ]
     },
     "execution_count": 15,
     "metadata": {},
     "output_type": "execute_result"
    },
    {
     "data": {
      "image/png": "[encoded data removed]",
      "text/plain": [
       "<Figure size 432x288 with 1 Axes>"
      ]
     },
     "metadata": {
      "needs_background": "light"
     },
     "output_type": "display_data"
    }
   ],
   "source": [
    "noise4_2pat = 0\n",
    "noise4_3pat = 0\n",
    "noise4_7pat = 0\n",
    "\n",
    "for i in range(10):\n",
    "    for x in range(noise4_arr[i][0].shape[1]):\n",
    "        if (noise4_arr[i][0][:,x] == patterns_01[:,x]).all():\n",
    "            noise4_2pat += 1\n",
    "    for y in range(noise4_arr[i][1].shape[1]):\n",
    "        if (noise4_arr[i][1][:,y] == patterns_012[:,y]).all():\n",
    "            noise4_3pat += 1\n",
    "    for z in range(noise4_arr[i][2].shape[1]):\n",
    "        if (noise4_arr[i][2][:,z] == patterns_0123456[:,z]).all():\n",
    "            noise4_7pat += 1\n",
    "        \n",
    "noise4_2pat_err = ((20-noise4_2pat)/20)*100\n",
    "noise4_3pat_err = ((30-noise4_3pat)/30)*100\n",
    "noise4_7pat_err = ((70-noise4_7pat)/70)*100\n",
    "\n",
    "noise_4_err = [noise4_2pat_err, noise4_3pat_err, noise4_7pat_err]\n",
    "\n",
    "patterns_stored = ['2 Patterns', '3 Patterns', '7 Patterns']\n",
    "\n",
    "plt.bar(patterns_stored, noise_4_err)\n",
    "plt.title('Error % based on number of patterns stored with 4 corrupt bits')\n",
    "plt.xlabel('Number of patterns')\n",
    "plt.ylabel('Error %')"
   ]
  },
  {
   "cell_type": "code",
   "execution_count": 16,
   "id": "59402b1a",
   "metadata": {},
   "outputs": [
    {
     "data": {
      "text/plain": [
       "Text(0, 0.5, 'Error %')"
      ]
     },
     "execution_count": 16,
     "metadata": {},
     "output_type": "execute_result"
    },
    {
     "data": {
      "image/png": "[encoded data removed]",
      "text/plain": [
       "<Figure size 432x288 with 1 Axes>"
      ]
     },
     "metadata": {
      "needs_background": "light"
     },
     "output_type": "display_data"
    }
   ],
   "source": [
    "noise6_2pat = 0\n",
    "noise6_3pat = 0\n",
    "noise6_7pat = 0\n",
    "\n",
    "for i in range(10):\n",
    "    for x in range(noise6_arr[i][0].shape[1]):\n",
    "        if (noise6_arr[i][0][:,x] == patterns_01[:,x]).all():\n",
    "            noise6_2pat += 1\n",
    "    for y in range(noise6_arr[i][1].shape[1]):\n",
    "        if (noise6_arr[i][1][:,y] == patterns_012[:,y]).all():\n",
    "            noise6_3pat += 1\n",
    "    for z in range(noise6_arr[i][2].shape[1]):\n",
    "        if (noise6_arr[i][2][:,z] == patterns_0123456[:,z]).all():\n",
    "            noise6_7pat += 1\n",
    "        \n",
    "noise6_2pat_err = ((20-noise6_2pat)/20)*100\n",
    "noise6_3pat_err = ((30-noise6_3pat)/30)*100\n",
    "noise6_7pat_err = ((70-noise6_7pat)/70)*100\n",
    "\n",
    "noise_6_err = [noise6_2pat_err, noise6_3pat_err, noise6_7pat_err]\n",
    "\n",
    "patterns_stored = ['2 Patterns', '3 Patterns', '7 Patterns']\n",
    "\n",
    "plt.bar(patterns_stored, noise_6_err)\n",
    "plt.title('Error % based on number of patterns stored with 6 corrupt bits')\n",
    "plt.xlabel('Number of patterns')\n",
    "plt.ylabel('Error %')"
   ]
  }
 ],
 "metadata": {
  "kernelspec": {
   "display_name": "Python 3 (ipykernel)",
   "language": "python",
   "name": "python3"
  },
  "language_info": {
   "codemirror_mode": {
    "name": "ipython",
    "version": 3
   },
   "file_extension": ".py",
   "mimetype": "text/x-python",
   "name": "python",
   "nbconvert_exporter": "python",
   "pygments_lexer": "ipython3",
   "version": "3.9.7"
  }
 },
 "nbformat": 4,
 "nbformat_minor": 5
}
